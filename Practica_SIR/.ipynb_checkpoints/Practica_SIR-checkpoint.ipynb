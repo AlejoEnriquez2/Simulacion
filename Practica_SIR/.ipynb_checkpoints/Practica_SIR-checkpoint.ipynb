{
 "cells": [
  {
   "cell_type": "markdown",
   "metadata": {},
   "source": [
    "# PRÁCTICA DE SIMULACIÓN - Modelo\n",
    "### Alejandro Enríquez \n",
    "### Ingeniería en Ciencias de la Computación\n",
    "### 10mo Ciclo\n",
    "\n",
    "Objetivo: utilizar herramientas de odeint - SIR\n"
   ]
  },
  {
   "cell_type": "markdown",
   "metadata": {},
   "source": [
    "Necesitamos los datos para las variables iniciales.\n",
    "- Población: 17 millones\n",
    "- Infectados: 446633\n",
    "- Recuperados: 415508\n",
    "- Tasa de contagio: 0.54\n",
    "- Tasa de recuperación: 0.2\n",
    "\n",
    "Fuente: https://www.salud.gob.ec/actualizacion-de-casos-de-coronavirus-en-ecuador/"
   ]
  },
  {
   "cell_type": "code",
   "execution_count": 2,
   "metadata": {},
   "outputs": [],
   "source": [
    "# Imports y Datos\n",
    "import pandas as pd\n",
    "import numpy as np\n",
    "import matplotlib.pyplot as plt\n",
    "from scipy.integrate import odeint\n",
    "\n",
    "poblacion = 17000000\n",
    "infectados = 446633\n",
    "recuperados = 415508\n",
    "contagio = 0.54\n",
    "recuperacion = 0.2\n",
    "calc = poblacion - infectados - recuperados\n",
    "tiempo = np.linspace(0, 365, 365)"
   ]
  },
  {
   "cell_type": "code",
   "execution_count": 3,
   "metadata": {},
   "outputs": [],
   "source": [
    "def deriv(y, tiempo, N, beta, gamma):\n",
    "    S, I, R = y\n",
    "    dSdt = -beta * S * I / N\n",
    "    dIdt = beta * S * I / N - gamma * I\n",
    "    dRdt = gamma * I\n",
    "    return dSdt, dIdt, dRdt"
   ]
  },
  {
   "cell_type": "code",
   "execution_count": 8,
   "metadata": {},
   "outputs": [
    {
     "data": {
      "image/png": "[encoded data removed]",
      "text/plain": [
       "<Figure size 432x288 with 1 Axes>"
      ]
     },
     "metadata": {
      "needs_background": "light"
     },
     "output_type": "display_data"
    }
   ],
   "source": [
    "y0 = calc, infectados, recuperados\n",
    "ret = odeint(deriv, y0, tiempo, args=(poblacion, contagio, recuperacion))\n",
    "S, I, R = ret.T\n",
    "\n",
    "plt.plot(tiempo, S, label = 'Infección')\n",
    "plt.plot(tiempo, I, label = 'Infectados')\n",
    "plt.plot(tiempo, R, label = 'Recuperados')\n",
    "plt.legend()\n",
    "plt.show()"
   ]
  }
 ],
 "metadata": {
  "kernelspec": {
   "display_name": "Python 3",
   "language": "python",
   "name": "python3"
  },
  "language_info": {
   "codemirror_mode": {
    "name": "ipython",
    "version": 3
   },
   "file_extension": ".py",
   "mimetype": "text/x-python",
   "name": "python",
   "nbconvert_exporter": "python",
   "pygments_lexer": "ipython3",
   "version": "3.8.5"
  }
 },
 "nbformat": 4,
 "nbformat_minor": 4
}
