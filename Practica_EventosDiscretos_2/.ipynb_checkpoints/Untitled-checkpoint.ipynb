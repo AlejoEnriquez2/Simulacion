{
 "cells": [
  {
   "cell_type": "markdown",
   "metadata": {},
   "source": [
    "# CLASE DE SIMULACIÓN - MAQUINARIA\n",
    "### Alejandro Enríquez \n",
    "### Ingeniería en Ciencias de la Computación\n",
    "### 10mo Ciclo\n",
    "\n",
    "Objetivo: Aplicar conocimientos de recursos e interrupciones en simpy"
   ]
  },
  {
   "cell_type": "code",
   "execution_count": 6,
   "metadata": {},
   "outputs": [],
   "source": [
    "import simpy\n",
    "import random\n",
    "env = simpy.Environment()"
   ]
  },
  {
   "cell_type": "code",
   "execution_count": null,
   "metadata": {},
   "outputs": [],
   "source": [
    "def manejar_ahora(env, carro):\n",
    "    yield env.timeout(random.randint(1,20))\n",
    "    carro.accion.interrupt()"
   ]
  },
  {
   "cell_type": "code",
   "execution_count": 3,
   "metadata": {},
   "outputs": [],
   "source": [
    "duracion_carga = 5\n",
    "duracion_bateria = 2\n",
    "\n",
    "class Carro():\n",
    "    def __init__(self, env):\n",
    "        self.env = env\n",
    "        self.accion = env.process(self.run())\n",
    "        \n",
    "    def run(self):\n",
    "        while True:\n",
    "            print('Se parquea y empieza la recarga %d' % self.env.now)\n",
    "            try:\n",
    "                yield self.env.process(self.recarga())\n",
    "            except simpy.Interrupt:            \n",
    "                print('Se interrumpe carga %d' % self.env.now)\n",
    "                \n",
    "            print('Se termina la recarga %d y empieza el manejo' % self.env.now)\n",
    "            yield self.env.timeout(duracion_bateria)\n",
    "            print('Uso del carro manejo %d' % self.env.now)\n",
    "\n",
    "    def recarga(self, duracion_carga):\n",
    "        yield self.env.timeout(duracion_carga)\n",
    "            "
   ]
  },
  {
   "cell_type": "code",
   "execution_count": 4,
   "metadata": {},
   "outputs": [
    {
     "name": "stdout",
     "output_type": "stream",
     "text": [
      "Se parquea y empieza la recarga 0\n",
      "Se termina la recarga 5\n",
      "Uso del carro manejo 7\n",
      "Se parquea y empieza la recarga 7\n",
      "Se termina la recarga 12\n",
      "Uso del carro manejo 14\n",
      "Se parquea y empieza la recarga 14\n",
      "Se termina la recarga 19\n",
      "Uso del carro manejo 21\n",
      "Se parquea y empieza la recarga 21\n"
     ]
    }
   ],
   "source": [
    "carro1 = Carro(env)\n",
    "env.run(until=25)"
   ]
  },
  {
   "cell_type": "code",
   "execution_count": null,
   "metadata": {},
   "outputs": [],
   "source": [
    "#############################################################"
   ]
  },
  {
   "cell_type": "code",
   "execution_count": 5,
   "metadata": {},
   "outputs": [],
   "source": [
    "TIEMPO_FABRICACION = 10\n",
    "TIEMPO_FALLA = 300\n",
    "TIEMPO_REPARACION = 38\n",
    "TIEMPO_OTROS_TRABAJOS = 30\n",
    "NUM_MAQUINAS = 10\n",
    "SEMANAS = 4\n",
    "TIEMPO_SIMULACION = SEMANAS * 7 * 24 * 60"
   ]
  },
  {
   "cell_type": "code",
   "execution_count": 7,
   "metadata": {},
   "outputs": [],
   "source": [
    "def tiempo_fabricacion():\n",
    "    return random.normalvariate(TIEMPO_FABRICACION, 2)\n",
    "\n",
    "def tiempo_falla():\n",
    "    return random.expovariate(1/TIEMPO_FALLA)"
   ]
  },
  {
   "cell_type": "code",
   "execution_count": 13,
   "metadata": {},
   "outputs": [],
   "source": [
    "class Maquina():\n",
    "    def __init__(self, env, nombre, tecnico):\n",
    "        self.env = env\n",
    "        self.nombre = nombre\n",
    "        self.numero_piezas = 0\n",
    "        self.falla = False\n",
    "        self.numero_fallas = 0\n",
    "        self.proceso = env.process(self.trabajo(tecnico))\n",
    "        env.process(self.falla_maquina())\n",
    "    \n",
    "    def trabajo(self, tecnico):\n",
    "        while True:\n",
    "            demora_pieza = tiempo_fabricacion()\n",
    "            while demora_pieza:\n",
    "                try:\n",
    "                    inicio = self.env.now\n",
    "                    yield self.env.timeout(demora_pieza)\n",
    "                    demora_pieza = 0\n",
    "                except simpy.Interrupt:\n",
    "                    self.numero_fallas += 1\n",
    "                    self.falla = True\n",
    "                    demora_pieza -= self.env.now - inicio\n",
    "                    with tecnico.request(priority=1) as requerimiento:\n",
    "                        yield requerimiento\n",
    "                        yield self.env.timeout(TIEMPO_REPARACION)\n",
    "                    self.falla = False\n",
    "                self.numero_piezas += 1\n",
    "    def falla_maquina(self):\n",
    "        while True:\n",
    "            yield self.env.timeout(tiempo_falla())\n",
    "            if not self.falla:\n",
    "                self.proceso.interrupt()"
   ]
  },
  {
   "cell_type": "code",
   "execution_count": 14,
   "metadata": {},
   "outputs": [],
   "source": [
    "def trabajo_tecnico(env, tecnico):\n",
    "    while True:\n",
    "        tiempo = TIEMPO_OTROS_TRABAJOS\n",
    "        while tiempo:\n",
    "            with tecnico.request(priority=2) as requerimiento:\n",
    "                yield requerimiento;\n",
    "                try:\n",
    "                    inicio = env.now\n",
    "                    yield env.timeout(tiempo)\n",
    "                    tiempo = 0\n",
    "                except simpy.Interrupt:\n",
    "                    tiempo -= env.now - inicio"
   ]
  },
  {
   "cell_type": "code",
   "execution_count": 19,
   "metadata": {},
   "outputs": [
    {
     "name": "stdout",
     "output_type": "stream",
     "text": [
      "Fabriación Iniciada...\n",
      "Simulación realizada despues de 4 semanas\n",
      "Nombre: Máquina 1 ha realizado 2947 partes con numero de fallas 98\n",
      "Nombre: Máquina 1 ha realizado 3032 partes con numero de fallas 104\n",
      "Nombre: Máquina 1 ha realizado 3075 partes con numero de fallas 93\n",
      "Nombre: Máquina 1 ha realizado 3039 partes con numero de fallas 96\n",
      "Nombre: Máquina 1 ha realizado 2939 partes con numero de fallas 109\n",
      "Nombre: Máquina 1 ha realizado 3102 partes con numero de fallas 89\n",
      "Nombre: Máquina 1 ha realizado 3053 partes con numero de fallas 96\n",
      "Nombre: Máquina 1 ha realizado 2857 partes con numero de fallas 110\n",
      "Nombre: Máquina 1 ha realizado 3072 partes con numero de fallas 98\n",
      "Nombre: Máquina 1 ha realizado 2880 partes con numero de fallas 104\n"
     ]
    }
   ],
   "source": [
    "print(\"Fabriación Iniciada...\")\n",
    "\n",
    "env = simpy.Environment()\n",
    "tecnico = simpy.PreemptiveResource(env, capacity=1)\n",
    "maquinas = [Maquina(env, 'Máquina %d' % 1, tecnico) for i in range(NUM_MAQUINAS)]\n",
    "env.process(trabajo_tecnico(env, tecnico))\n",
    "env.run(until=TIEMPO_SIMULACION)\n",
    "print(\"Simulación realizada despues de %d semanas\" % (SEMANAS))\n",
    "\n",
    "for maquina in maquinas:\n",
    "    print('Nombre: %s ha realizado %d partes con numero de fallas %d' % (maquina.nombre, maquina.numero_piezas, maquina.numero_fallas))"
   ]
  }
 ],
 "metadata": {
  "kernelspec": {
   "display_name": "Python 3",
   "language": "python",
   "name": "python3"
  },
  "language_info": {
   "codemirror_mode": {
    "name": "ipython",
    "version": 3
   },
   "file_extension": ".py",
   "mimetype": "text/x-python",
   "name": "python",
   "nbconvert_exporter": "python",
   "pygments_lexer": "ipython3",
   "version": "3.8.5"
  }
 },
 "nbformat": 4,
 "nbformat_minor": 4
}
